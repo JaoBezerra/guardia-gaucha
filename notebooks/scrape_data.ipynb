{
 "cells": [
  {
   "cell_type": "code",
   "execution_count": 3,
   "metadata": {},
   "outputs": [],
   "source": [
    "import requests\n",
    "from bs4 import BeautifulSoup"
   ]
  },
  {
   "cell_type": "code",
   "execution_count": 7,
   "metadata": {},
   "outputs": [],
   "source": [
    "url = (\n",
    "    \"https://painelrs.maps.arcgis.com/apps/dashboards/d78d3e00ff224516b7dc0c04d7c57e76\"\n",
    ")\n",
    "\n",
    "response = requests.get(url)\n",
    "soup = BeautifulSoup(response.content, \"html.parser\")\n",
    "divs = soup.find_all(\"div\", class_=\"ck-content\")\n",
    "\n",
    "for div in divs:\n",
    "  print(div.get_text())"
   ]
  },
  {
   "cell_type": "code",
   "execution_count": 9,
   "metadata": {},
   "outputs": [
    {
     "data": {
      "text/plain": [
       "<!DOCTYPE html>\n",
       "\n",
       "<html>\n",
       "<head>\n",
       "<meta charset=\"utf-8\"/>\n",
       "<meta content=\"IE=edge\" http-equiv=\"X-UA-Compatible\"/>\n",
       "<title>ArcGIS Dashboards</title>\n",
       "<meta content=\"ArcGIS Dashboards\" name=\"description\"/>\n",
       "<meta content=\"width=device-width, initial-scale=1\" name=\"viewport\"/>\n",
       "<meta content=\"\" http-equiv=\"Content-Security-Policy\"/>\n",
       "<link href=\"assets/images/arcgis-dashboards-16-57c7bdca757e2544acb67f661775b0ba.png\" rel=\"icon\" type=\"image/png\"/>\n",
       "<link data-theme=\"api-dark\" href=\"assets/arcgis-core/themes/dark/main.css\" rel=\"stylesheet\" type=\"text/css\"/>\n",
       "<link data-theme=\"api-light\" href=\"assets/arcgis-core/themes/light/main.css\" rel=\"stylesheet\" type=\"text/css\"/>\n",
       "<link href=\"assets/vendor-2945ae93b1b9d22427e1acc05b7f6a4d.css\" rel=\"stylesheet\">\n",
       "<link href=\"assets/chunk.74286.04dc8cd6896f52f74349.css\" rel=\"stylesheet\">\n",
       "<link href=\"assets/app-dc9685e7ec1e99cd1bcaab6aa30c7901.css\" rel=\"stylesheet\"/>\n",
       "<script src=\"assets/before-amd-221d67fb9eb21073f94bf81e08b383b9.js\"></script>\n",
       "</link></link></head>\n",
       "<body>\n",
       "<div class=\"loader-icon-container\" id=\"initialLoadingContainer\">\n",
       "<calcite-loader scale=\"l\"></calcite-loader>\n",
       "</div>\n",
       "<script src=\"assets/vendor-4e528868ba8cde234a5de9ca8c57ff79.js\"></script>\n",
       "<script src=\"assets/chunk.74286.04dc8cd6896f52f74349.js\"></script>\n",
       "<script src=\"assets/chunk.33524.df6c077f30c4ff3095b6.js\"></script>\n",
       "<script src=\"assets/nickel-f6fb2579a37ee52528f5e56bd13e1f5d.js\"></script>\n",
       "<script src=\"assets/ckeditor/translations.js\"></script>\n",
       "</body>\n",
       "</html>"
      ]
     },
     "execution_count": 9,
     "metadata": {},
     "output_type": "execute_result"
    }
   ],
   "source": [
    "soup"
   ]
  },
  {
   "cell_type": "code",
   "execution_count": null,
   "metadata": {},
   "outputs": [],
   "source": []
  }
 ],
 "metadata": {
  "kernelspec": {
   "display_name": "base",
   "language": "python",
   "name": "python3"
  },
  "language_info": {
   "codemirror_mode": {
    "name": "ipython",
    "version": 3
   },
   "file_extension": ".py",
   "mimetype": "text/x-python",
   "name": "python",
   "nbconvert_exporter": "python",
   "pygments_lexer": "ipython3",
   "version": "3.10.13"
  }
 },
 "nbformat": 4,
 "nbformat_minor": 2
}
